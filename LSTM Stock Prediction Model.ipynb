{
 "cells": [
  {
   "cell_type": "markdown",
   "metadata": {},
   "source": [
    "# LSTM Stock Prediction Model"
   ]
  },
  {
   "cell_type": "code",
   "execution_count": 1,
   "metadata": {},
   "outputs": [
    {
     "name": "stdout",
     "output_type": "stream",
     "text": [
      "WARNING:tensorflow:From c:\\Users\\enaba\\AppData\\Local\\Programs\\Python\\Python310\\lib\\site-packages\\keras\\src\\losses.py:2976: The name tf.losses.sparse_softmax_cross_entropy is deprecated. Please use tf.compat.v1.losses.sparse_softmax_cross_entropy instead.\n",
      "\n"
     ]
    }
   ],
   "source": [
    "import math\n",
    "import pandas as pd\n",
    "import pandas_datareader as web\n",
    "import numpy as np\n",
    "import datetime\n",
    "\n",
    "import yfinance as yf\n",
    "\n",
    "from sklearn.preprocessing import MinMaxScaler\n",
    "\n",
    "import matplotlib.pyplot as plt\n",
    "plt.style.use('fivethirtyeight')\n",
    "\n",
    "from tensorflow.keras.models import Sequential\n",
    "from keras.models import Sequential\n",
    "from keras.layers import Dense, LSTM, Dropout\n",
    "import tensorflow as tf\n",
    "from tensorflow import keras\n"
   ]
  },
  {
   "cell_type": "markdown",
   "metadata": {},
   "source": [
    "### Set Datetime From 2012 Until Yesterday"
   ]
  },
  {
   "cell_type": "code",
   "execution_count": 2,
   "metadata": {},
   "outputs": [
    {
     "name": "stdout",
     "output_type": "stream",
     "text": [
      "Yesterday's date: 2023-11-18\n"
     ]
    }
   ],
   "source": [
    "# Get today's date\n",
    "today = datetime.date.today()\n",
    "\n",
    "# Calculate yesterday's date\n",
    "yesterday = today - datetime.timedelta(days=1)\n",
    "\n",
    "# Format yesterday's date as a string\n",
    "end = yesterday.strftime('%Y-%m-%d')\n",
    "\n",
    "# Print or use 'end' as needed\n",
    "print(\"Yesterday's date:\", end)\n",
    " \n"
   ]
  },
  {
   "cell_type": "code",
   "execution_count": 4,
   "metadata": {},
   "outputs": [],
   "source": [
    "start = '2012-01-01'\n",
    "end = yesterday.strftime('%Y-%m-%d')\n",
    "stock = 'GOOG'"
   ]
  },
  {
   "cell_type": "code",
   "execution_count": 5,
   "metadata": {},
   "outputs": [
    {
     "name": "stdout",
     "output_type": "stream",
     "text": [
      "[*********************100%%**********************]  1 of 1 completed\n"
     ]
    },
    {
     "data": {
      "text/html": [
       "<div>\n",
       "<style scoped>\n",
       "    .dataframe tbody tr th:only-of-type {\n",
       "        vertical-align: middle;\n",
       "    }\n",
       "\n",
       "    .dataframe tbody tr th {\n",
       "        vertical-align: top;\n",
       "    }\n",
       "\n",
       "    .dataframe thead th {\n",
       "        text-align: right;\n",
       "    }\n",
       "</style>\n",
       "<table border=\"1\" class=\"dataframe\">\n",
       "  <thead>\n",
       "    <tr style=\"text-align: right;\">\n",
       "      <th></th>\n",
       "      <th>Date</th>\n",
       "      <th>Open</th>\n",
       "      <th>High</th>\n",
       "      <th>Low</th>\n",
       "      <th>Close</th>\n",
       "      <th>Adj Close</th>\n",
       "      <th>Volume</th>\n",
       "    </tr>\n",
       "  </thead>\n",
       "  <tbody>\n",
       "    <tr>\n",
       "      <th>0</th>\n",
       "      <td>2012-01-03</td>\n",
       "      <td>16.262545</td>\n",
       "      <td>16.641375</td>\n",
       "      <td>16.248346</td>\n",
       "      <td>16.573130</td>\n",
       "      <td>16.573130</td>\n",
       "      <td>147611217</td>\n",
       "    </tr>\n",
       "    <tr>\n",
       "      <th>1</th>\n",
       "      <td>2012-01-04</td>\n",
       "      <td>16.563665</td>\n",
       "      <td>16.693678</td>\n",
       "      <td>16.453827</td>\n",
       "      <td>16.644611</td>\n",
       "      <td>16.644611</td>\n",
       "      <td>114989399</td>\n",
       "    </tr>\n",
       "    <tr>\n",
       "      <th>2</th>\n",
       "      <td>2012-01-05</td>\n",
       "      <td>16.491436</td>\n",
       "      <td>16.537264</td>\n",
       "      <td>16.344486</td>\n",
       "      <td>16.413727</td>\n",
       "      <td>16.413727</td>\n",
       "      <td>131808205</td>\n",
       "    </tr>\n",
       "    <tr>\n",
       "      <th>3</th>\n",
       "      <td>2012-01-06</td>\n",
       "      <td>16.417213</td>\n",
       "      <td>16.438385</td>\n",
       "      <td>16.184088</td>\n",
       "      <td>16.189817</td>\n",
       "      <td>16.189817</td>\n",
       "      <td>108119746</td>\n",
       "    </tr>\n",
       "    <tr>\n",
       "      <th>4</th>\n",
       "      <td>2012-01-09</td>\n",
       "      <td>16.102144</td>\n",
       "      <td>16.114599</td>\n",
       "      <td>15.472754</td>\n",
       "      <td>15.503389</td>\n",
       "      <td>15.503389</td>\n",
       "      <td>233776981</td>\n",
       "    </tr>\n",
       "    <tr>\n",
       "      <th>...</th>\n",
       "      <td>...</td>\n",
       "      <td>...</td>\n",
       "      <td>...</td>\n",
       "      <td>...</td>\n",
       "      <td>...</td>\n",
       "      <td>...</td>\n",
       "      <td>...</td>\n",
       "    </tr>\n",
       "    <tr>\n",
       "      <th>2985</th>\n",
       "      <td>2023-11-13</td>\n",
       "      <td>133.360001</td>\n",
       "      <td>134.110001</td>\n",
       "      <td>132.770004</td>\n",
       "      <td>133.639999</td>\n",
       "      <td>133.639999</td>\n",
       "      <td>16409900</td>\n",
       "    </tr>\n",
       "    <tr>\n",
       "      <th>2986</th>\n",
       "      <td>2023-11-14</td>\n",
       "      <td>135.649994</td>\n",
       "      <td>137.240005</td>\n",
       "      <td>135.100006</td>\n",
       "      <td>135.429993</td>\n",
       "      <td>135.429993</td>\n",
       "      <td>22317300</td>\n",
       "    </tr>\n",
       "    <tr>\n",
       "      <th>2987</th>\n",
       "      <td>2023-11-15</td>\n",
       "      <td>136.639999</td>\n",
       "      <td>136.839996</td>\n",
       "      <td>135.330002</td>\n",
       "      <td>136.380005</td>\n",
       "      <td>136.380005</td>\n",
       "      <td>15840900</td>\n",
       "    </tr>\n",
       "    <tr>\n",
       "      <th>2988</th>\n",
       "      <td>2023-11-16</td>\n",
       "      <td>136.960007</td>\n",
       "      <td>138.880005</td>\n",
       "      <td>136.080002</td>\n",
       "      <td>138.699997</td>\n",
       "      <td>138.699997</td>\n",
       "      <td>17615100</td>\n",
       "    </tr>\n",
       "    <tr>\n",
       "      <th>2989</th>\n",
       "      <td>2023-11-17</td>\n",
       "      <td>137.820007</td>\n",
       "      <td>138.000000</td>\n",
       "      <td>135.479996</td>\n",
       "      <td>136.940002</td>\n",
       "      <td>136.940002</td>\n",
       "      <td>25565300</td>\n",
       "    </tr>\n",
       "  </tbody>\n",
       "</table>\n",
       "<p>2990 rows × 7 columns</p>\n",
       "</div>"
      ],
      "text/plain": [
       "           Date        Open        High         Low       Close   Adj Close  \\\n",
       "0    2012-01-03   16.262545   16.641375   16.248346   16.573130   16.573130   \n",
       "1    2012-01-04   16.563665   16.693678   16.453827   16.644611   16.644611   \n",
       "2    2012-01-05   16.491436   16.537264   16.344486   16.413727   16.413727   \n",
       "3    2012-01-06   16.417213   16.438385   16.184088   16.189817   16.189817   \n",
       "4    2012-01-09   16.102144   16.114599   15.472754   15.503389   15.503389   \n",
       "...         ...         ...         ...         ...         ...         ...   \n",
       "2985 2023-11-13  133.360001  134.110001  132.770004  133.639999  133.639999   \n",
       "2986 2023-11-14  135.649994  137.240005  135.100006  135.429993  135.429993   \n",
       "2987 2023-11-15  136.639999  136.839996  135.330002  136.380005  136.380005   \n",
       "2988 2023-11-16  136.960007  138.880005  136.080002  138.699997  138.699997   \n",
       "2989 2023-11-17  137.820007  138.000000  135.479996  136.940002  136.940002   \n",
       "\n",
       "         Volume  \n",
       "0     147611217  \n",
       "1     114989399  \n",
       "2     131808205  \n",
       "3     108119746  \n",
       "4     233776981  \n",
       "...         ...  \n",
       "2985   16409900  \n",
       "2986   22317300  \n",
       "2987   15840900  \n",
       "2988   17615100  \n",
       "2989   25565300  \n",
       "\n",
       "[2990 rows x 7 columns]"
      ]
     },
     "execution_count": 5,
     "metadata": {},
     "output_type": "execute_result"
    }
   ],
   "source": [
    "data = yf.download(stock, start, end)\n",
    "\n",
    "data.reset_index(inplace = True)\n",
    "data"
   ]
  },
  {
   "cell_type": "code",
   "execution_count": null,
   "metadata": {},
   "outputs": [],
   "source": []
  },
  {
   "cell_type": "markdown",
   "metadata": {},
   "source": [
    "## Time Series Sequence Generation"
   ]
  },
  {
   "cell_type": "markdown",
   "metadata": {},
   "source": [
    "### Slice The Data into Training and Test Set"
   ]
  },
  {
   "cell_type": "code",
   "execution_count": 6,
   "metadata": {},
   "outputs": [
    {
     "data": {
      "text/plain": [
       "((2392, 1), (598, 1))"
      ]
     },
     "execution_count": 6,
     "metadata": {},
     "output_type": "execute_result"
    }
   ],
   "source": [
    "data_train = pd.DataFrame(data.Close[0: int(len(data)*0.8)])\n",
    "data_test = pd.DataFrame(data.Close[int(len(data)*0.80): len(data)])\n",
    "data_train.shape, data_test.shape"
   ]
  },
  {
   "cell_type": "markdown",
   "metadata": {},
   "source": [
    "### Scaling the Training Data\n"
   ]
  },
  {
   "cell_type": "code",
   "execution_count": 7,
   "metadata": {},
   "outputs": [],
   "source": [
    "scaler =  MinMaxScaler(feature_range = (0,1))"
   ]
  },
  {
   "cell_type": "markdown",
   "metadata": {},
   "source": [
    "### Time Series Sequence Generation"
   ]
  },
  {
   "cell_type": "code",
   "execution_count": 8,
   "metadata": {},
   "outputs": [],
   "source": [
    "data_train_scale = scaler.fit_transform(data_train)"
   ]
  },
  {
   "cell_type": "markdown",
   "metadata": {},
   "source": [
    "### Input-Output Pair Generation"
   ]
  },
  {
   "cell_type": "code",
   "execution_count": 9,
   "metadata": {},
   "outputs": [],
   "source": [
    "x = []\n",
    "y = []\n",
    "\n",
    "for i in range(100, data_train_scale.shape[0]):\n",
    "    x.append(data_train_scale[i-100:i])\n",
    "    y.append(data_train_scale[i,0])"
   ]
  },
  {
   "cell_type": "markdown",
   "metadata": {},
   "source": [
    "### Array Conversion for Model Input"
   ]
  },
  {
   "cell_type": "code",
   "execution_count": 10,
   "metadata": {},
   "outputs": [],
   "source": [
    "x, y =np.array(x),np.array(y)"
   ]
  },
  {
   "cell_type": "markdown",
   "metadata": {},
   "source": [
    "## LSTM Model "
   ]
  },
  {
   "cell_type": "code",
   "execution_count": 11,
   "metadata": {},
   "outputs": [
    {
     "name": "stdout",
     "output_type": "stream",
     "text": [
      "WARNING:tensorflow:From c:\\Users\\enaba\\AppData\\Local\\Programs\\Python\\Python310\\lib\\site-packages\\keras\\src\\backend.py:873: The name tf.get_default_graph is deprecated. Please use tf.compat.v1.get_default_graph instead.\n",
      "\n",
      "WARNING:tensorflow:From c:\\Users\\enaba\\AppData\\Local\\Programs\\Python\\Python310\\lib\\site-packages\\keras\\src\\optimizers\\__init__.py:309: The name tf.train.Optimizer is deprecated. Please use tf.compat.v1.train.Optimizer instead.\n",
      "\n"
     ]
    }
   ],
   "source": [
    "model = Sequential()\n",
    "model.add(LSTM(units = 50, activation = 'relu', return_sequences =True,\n",
    "              input_shape = ((x.shape[1],1))))\n",
    "model.add(Dropout(0.2))\n",
    "\n",
    "model.add(LSTM(units =60, activation = 'relu', return_sequences =True))\n",
    "model.add(Dropout(0.3))\n",
    "\n",
    "model.add(LSTM(units = 80, activation = 'relu', return_sequences =True))\n",
    "model.add(Dropout(0.4))\n",
    "\n",
    "model.add(LSTM(units =120, activation = 'relu'))\n",
    "model.add(Dropout(0.5))\n",
    "\n",
    "model.add(Dense(units = 1))\n",
    "\n",
    "model.compile(optimizer = 'adam', loss= 'mean_squared_error')"
   ]
  },
  {
   "cell_type": "code",
   "execution_count": 12,
   "metadata": {},
   "outputs": [
    {
     "name": "stdout",
     "output_type": "stream",
     "text": [
      "Epoch 1/50\n",
      "WARNING:tensorflow:From c:\\Users\\enaba\\AppData\\Local\\Programs\\Python\\Python310\\lib\\site-packages\\keras\\src\\utils\\tf_utils.py:492: The name tf.ragged.RaggedTensorValue is deprecated. Please use tf.compat.v1.ragged.RaggedTensorValue instead.\n",
      "\n",
      "72/72 [==============================] - 15s 131ms/step - loss: 0.0173\n",
      "Epoch 2/50\n",
      "72/72 [==============================] - 10s 137ms/step - loss: 0.0048\n",
      "Epoch 3/50\n",
      "72/72 [==============================] - 10s 136ms/step - loss: 0.0038\n",
      "Epoch 4/50\n",
      "72/72 [==============================] - 10s 132ms/step - loss: 0.0035\n",
      "Epoch 5/50\n",
      "72/72 [==============================] - 9s 130ms/step - loss: 0.0036\n",
      "Epoch 6/50\n",
      "72/72 [==============================] - 9s 128ms/step - loss: 0.0028\n",
      "Epoch 7/50\n",
      "72/72 [==============================] - 10s 142ms/step - loss: 0.0026\n",
      "Epoch 8/50\n",
      "72/72 [==============================] - 10s 134ms/step - loss: 0.0028\n",
      "Epoch 9/50\n",
      "72/72 [==============================] - 9s 131ms/step - loss: 0.0025\n",
      "Epoch 10/50\n",
      "72/72 [==============================] - 9s 122ms/step - loss: 0.0029\n",
      "Epoch 11/50\n",
      "72/72 [==============================] - 9s 119ms/step - loss: 0.0023\n",
      "Epoch 12/50\n",
      "72/72 [==============================] - 8s 117ms/step - loss: 0.0025\n",
      "Epoch 13/50\n",
      "72/72 [==============================] - 9s 131ms/step - loss: 0.0023\n",
      "Epoch 14/50\n",
      "72/72 [==============================] - 10s 142ms/step - loss: 0.0019\n",
      "Epoch 15/50\n",
      "72/72 [==============================] - 9s 124ms/step - loss: 0.0021\n",
      "Epoch 16/50\n",
      "72/72 [==============================] - 9s 126ms/step - loss: 0.0028\n",
      "Epoch 17/50\n",
      "72/72 [==============================] - 9s 121ms/step - loss: 0.0021\n",
      "Epoch 18/50\n",
      "72/72 [==============================] - 9s 126ms/step - loss: 0.0025\n",
      "Epoch 19/50\n",
      "72/72 [==============================] - 9s 125ms/step - loss: 0.0019\n",
      "Epoch 20/50\n",
      "72/72 [==============================] - 9s 124ms/step - loss: 0.0019\n",
      "Epoch 21/50\n",
      "72/72 [==============================] - 9s 130ms/step - loss: 0.0017\n",
      "Epoch 22/50\n",
      "72/72 [==============================] - 10s 132ms/step - loss: 0.0016\n",
      "Epoch 23/50\n",
      "72/72 [==============================] - 9s 126ms/step - loss: 0.0019\n",
      "Epoch 24/50\n",
      "72/72 [==============================] - 9s 131ms/step - loss: 0.0018\n",
      "Epoch 25/50\n",
      "72/72 [==============================] - 9s 126ms/step - loss: 0.0016\n",
      "Epoch 26/50\n",
      "72/72 [==============================] - 9s 120ms/step - loss: 0.0017\n",
      "Epoch 27/50\n",
      "72/72 [==============================] - 9s 129ms/step - loss: 0.0018\n",
      "Epoch 28/50\n",
      "72/72 [==============================] - 10s 139ms/step - loss: 0.0016\n",
      "Epoch 29/50\n",
      "72/72 [==============================] - 9s 122ms/step - loss: 0.0016\n",
      "Epoch 30/50\n",
      "72/72 [==============================] - 9s 124ms/step - loss: 0.0018\n",
      "Epoch 31/50\n",
      "72/72 [==============================] - 9s 127ms/step - loss: 0.0018\n",
      "Epoch 32/50\n",
      "72/72 [==============================] - 9s 130ms/step - loss: 0.0015\n",
      "Epoch 33/50\n",
      "72/72 [==============================] - 9s 123ms/step - loss: 0.0017\n",
      "Epoch 34/50\n",
      "72/72 [==============================] - 9s 128ms/step - loss: 0.0014\n",
      "Epoch 35/50\n",
      "72/72 [==============================] - 9s 130ms/step - loss: 0.0017\n",
      "Epoch 36/50\n",
      "72/72 [==============================] - 9s 124ms/step - loss: 0.0016\n",
      "Epoch 37/50\n",
      "72/72 [==============================] - 9s 127ms/step - loss: 0.0015\n",
      "Epoch 38/50\n",
      "72/72 [==============================] - 9s 131ms/step - loss: 0.0017\n",
      "Epoch 39/50\n",
      "72/72 [==============================] - 9s 120ms/step - loss: 0.0016\n",
      "Epoch 40/50\n",
      "72/72 [==============================] - 9s 128ms/step - loss: 0.0016\n",
      "Epoch 41/50\n",
      "72/72 [==============================] - 9s 131ms/step - loss: 0.0015\n",
      "Epoch 42/50\n",
      "72/72 [==============================] - 10s 135ms/step - loss: 0.0018\n",
      "Epoch 43/50\n",
      "72/72 [==============================] - 9s 127ms/step - loss: 0.0016\n",
      "Epoch 44/50\n",
      "72/72 [==============================] - 9s 125ms/step - loss: 0.0014\n",
      "Epoch 45/50\n",
      "72/72 [==============================] - 9s 123ms/step - loss: 0.0014\n",
      "Epoch 46/50\n",
      "72/72 [==============================] - 9s 125ms/step - loss: 0.0015\n",
      "Epoch 47/50\n",
      "72/72 [==============================] - 9s 123ms/step - loss: 0.0015\n",
      "Epoch 48/50\n",
      "72/72 [==============================] - 9s 128ms/step - loss: 0.0013\n",
      "Epoch 49/50\n",
      "72/72 [==============================] - 9s 124ms/step - loss: 0.0014\n",
      "Epoch 50/50\n",
      "72/72 [==============================] - 9s 127ms/step - loss: 0.0016\n",
      "CPU times: total: 16min 33s\n",
      "Wall time: 7min 46s\n"
     ]
    },
    {
     "data": {
      "text/plain": [
       "<keras.src.callbacks.History at 0x2002aa67a30>"
      ]
     },
     "execution_count": 12,
     "metadata": {},
     "output_type": "execute_result"
    }
   ],
   "source": [
    "%%time\n",
    "model.fit(x,y, epochs = 50, batch_size = 32, verbose =1)"
   ]
  },
  {
   "cell_type": "code",
   "execution_count": 13,
   "metadata": {},
   "outputs": [
    {
     "name": "stdout",
     "output_type": "stream",
     "text": [
      "Model: \"sequential\"\n",
      "_________________________________________________________________\n",
      " Layer (type)                Output Shape              Param #   \n",
      "=================================================================\n",
      " lstm (LSTM)                 (None, 100, 50)           10400     \n",
      "                                                                 \n",
      " dropout (Dropout)           (None, 100, 50)           0         \n",
      "                                                                 \n",
      " lstm_1 (LSTM)               (None, 100, 60)           26640     \n",
      "                                                                 \n",
      " dropout_1 (Dropout)         (None, 100, 60)           0         \n",
      "                                                                 \n",
      " lstm_2 (LSTM)               (None, 100, 80)           45120     \n",
      "                                                                 \n",
      " dropout_2 (Dropout)         (None, 100, 80)           0         \n",
      "                                                                 \n",
      " lstm_3 (LSTM)               (None, 120)               96480     \n",
      "                                                                 \n",
      " dropout_3 (Dropout)         (None, 120)               0         \n",
      "                                                                 \n",
      " dense (Dense)               (None, 1)                 121       \n",
      "                                                                 \n",
      "=================================================================\n",
      "Total params: 178761 (698.29 KB)\n",
      "Trainable params: 178761 (698.29 KB)\n",
      "Non-trainable params: 0 (0.00 Byte)\n",
      "_________________________________________________________________\n"
     ]
    }
   ],
   "source": [
    "model.summary()"
   ]
  },
  {
   "cell_type": "markdown",
   "metadata": {},
   "source": [
    "### Extracting the Last 100 Days of Training Data"
   ]
  },
  {
   "cell_type": "code",
   "execution_count": 14,
   "metadata": {},
   "outputs": [],
   "source": [
    "past_100_days = data_train.tail(100)"
   ]
  },
  {
   "cell_type": "markdown",
   "metadata": {},
   "source": [
    "### Combining the Last 100 Days with the Test Data"
   ]
  },
  {
   "cell_type": "code",
   "execution_count": 15,
   "metadata": {},
   "outputs": [],
   "source": [
    "data_test = pd.concat([past_100_days, data_test], ignore_index = True)"
   ]
  },
  {
   "cell_type": "markdown",
   "metadata": {},
   "source": [
    "### Scaling the Test Data"
   ]
  },
  {
   "cell_type": "code",
   "execution_count": 16,
   "metadata": {},
   "outputs": [],
   "source": [
    "data_test_scale = scaler.fit_transform(data_test)"
   ]
  },
  {
   "cell_type": "markdown",
   "metadata": {},
   "source": [
    "### Generating Input-Output Pairs for Testing"
   ]
  },
  {
   "cell_type": "code",
   "execution_count": 17,
   "metadata": {},
   "outputs": [],
   "source": [
    "x = []\n",
    "y = []\n",
    "\n",
    "for i in range(100, data_test_scale.shape[0]):\n",
    "    x.append(data_test_scale[i-100:i])\n",
    "    y.append(data_test_scale[i,0])\n",
    "    \n",
    "x, y =np.array(x),np.array(y)"
   ]
  },
  {
   "cell_type": "code",
   "execution_count": 18,
   "metadata": {},
   "outputs": [],
   "source": [
    "#Inverse Scaling of Model Predictions\n",
    "scale = 1/scaler.scale_"
   ]
  },
  {
   "cell_type": "code",
   "execution_count": 19,
   "metadata": {},
   "outputs": [
    {
     "name": "stdout",
     "output_type": "stream",
     "text": [
      "19/19 [==============================] - 2s 48ms/step\n"
     ]
    }
   ],
   "source": [
    "y_predict = model.predict(x)"
   ]
  },
  {
   "cell_type": "code",
   "execution_count": 20,
   "metadata": {},
   "outputs": [],
   "source": [
    "y_predict = y_predict*scale"
   ]
  },
  {
   "cell_type": "code",
   "execution_count": 21,
   "metadata": {},
   "outputs": [],
   "source": [
    "y = y * scale"
   ]
  },
  {
   "cell_type": "markdown",
   "metadata": {},
   "source": [
    "### Plotting Predicted and Original Prices"
   ]
  },
  {
   "cell_type": "code",
   "execution_count": 22,
   "metadata": {},
   "outputs": [
    {
     "data": {
      "image/png": "[encoded data removed]",
      "text/plain": [
       "<Figure size 1000x800 with 1 Axes>"
      ]
     },
     "metadata": {},
     "output_type": "display_data"
    }
   ],
   "source": [
    "plt.figure(figsize = (10, 8))\n",
    "plt.plot(y_predict, 'r', label = 'Predicted Price')\n",
    "plt.plot(y, 'g', label = 'Original Price')\n",
    "\n",
    "plt.xlabel('Time')\n",
    "plt.ylabel('Price')\n",
    "plt.legend()\n",
    "plt.show()"
   ]
  },
  {
   "cell_type": "markdown",
   "metadata": {},
   "source": [
    "## Saving the Model For App Creation "
   ]
  },
  {
   "cell_type": "code",
   "execution_count": 23,
   "metadata": {},
   "outputs": [
    {
     "name": "stdout",
     "output_type": "stream",
     "text": [
      "INFO:tensorflow:Assets written to: Stock Prediction Model.Keras\\assets\n"
     ]
    },
    {
     "name": "stderr",
     "output_type": "stream",
     "text": [
      "INFO:tensorflow:Assets written to: Stock Prediction Model.Keras\\assets\n"
     ]
    }
   ],
   "source": [
    "model.save('Stock Prediction Model.Keras')"
   ]
  }
 ],
 "metadata": {
  "kernelspec": {
   "display_name": "Python 3 (ipykernel)",
   "language": "python",
   "name": "python3"
  },
  "language_info": {
   "codemirror_mode": {
    "name": "ipython",
    "version": 3
   },
   "file_extension": ".py",
   "mimetype": "text/x-python",
   "name": "python",
   "nbconvert_exporter": "python",
   "pygments_lexer": "ipython3",
   "version": "3.8.18"
  }
 },
 "nbformat": 4,
 "nbformat_minor": 2
}
